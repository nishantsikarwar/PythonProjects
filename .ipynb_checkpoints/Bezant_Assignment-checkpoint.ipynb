{
 "cells": [
  {
   "cell_type": "markdown",
   "metadata": {
    "colab_type": "text",
    "id": "view-in-github"
   },
   "source": [
    "<a href=\"https://colab.research.google.com/github/nishantsikarwar/PythonProjects/blob/main/Bezant_Assignment.ipynb\" target=\"_parent\"><img src=\"https://colab.research.google.com/assets/colab-badge.svg\" alt=\"Open In Colab\"/></a>"
   ]
  },
  {
   "cell_type": "code",
   "execution_count": 1,
   "metadata": {
    "id": "F70GepnuSFqE"
   },
   "outputs": [],
   "source": [
    "#Importing the libraries\n",
    "import numpy as np\n",
    "import matplotlib.pyplot as plt\n",
    "import pandas as pd\n",
    "import os\n",
    "os.environ['TF_CPP_MIN_LOG_LEVEL'] = '2'"
   ]
  },
  {
   "cell_type": "code",
   "execution_count": 2,
   "metadata": {},
   "outputs": [
    {
     "data": {
      "text/html": [
       "<div>\n",
       "<style scoped>\n",
       "    .dataframe tbody tr th:only-of-type {\n",
       "        vertical-align: middle;\n",
       "    }\n",
       "\n",
       "    .dataframe tbody tr th {\n",
       "        vertical-align: top;\n",
       "    }\n",
       "\n",
       "    .dataframe thead th {\n",
       "        text-align: right;\n",
       "    }\n",
       "</style>\n",
       "<table border=\"1\" class=\"dataframe\">\n",
       "  <thead>\n",
       "    <tr style=\"text-align: right;\">\n",
       "      <th></th>\n",
       "      <th>timestamp</th>\n",
       "      <th>low</th>\n",
       "      <th>high</th>\n",
       "      <th>open</th>\n",
       "      <th>close</th>\n",
       "      <th>volume</th>\n",
       "      <th>threshold</th>\n",
       "      <th>label</th>\n",
       "    </tr>\n",
       "  </thead>\n",
       "  <tbody>\n",
       "    <tr>\n",
       "      <th>0</th>\n",
       "      <td>2021-02-02 06:00:00+00:00</td>\n",
       "      <td>33961.99</td>\n",
       "      <td>34350.00</td>\n",
       "      <td>34026.99</td>\n",
       "      <td>34306.72</td>\n",
       "      <td>774.068600</td>\n",
       "      <td>0.008630</td>\n",
       "      <td>1.0</td>\n",
       "    </tr>\n",
       "    <tr>\n",
       "      <th>1</th>\n",
       "      <td>2021-02-02 07:00:00+00:00</td>\n",
       "      <td>34161.18</td>\n",
       "      <td>34404.86</td>\n",
       "      <td>34318.27</td>\n",
       "      <td>34260.00</td>\n",
       "      <td>587.215907</td>\n",
       "      <td>0.008559</td>\n",
       "      <td>1.0</td>\n",
       "    </tr>\n",
       "    <tr>\n",
       "      <th>2</th>\n",
       "      <td>2021-02-02 08:00:00+00:00</td>\n",
       "      <td>34122.38</td>\n",
       "      <td>34691.25</td>\n",
       "      <td>34254.53</td>\n",
       "      <td>34687.91</td>\n",
       "      <td>623.271300</td>\n",
       "      <td>0.008595</td>\n",
       "      <td>1.0</td>\n",
       "    </tr>\n",
       "    <tr>\n",
       "      <th>3</th>\n",
       "      <td>2021-02-02 09:00:00+00:00</td>\n",
       "      <td>34689.63</td>\n",
       "      <td>35649.22</td>\n",
       "      <td>34689.63</td>\n",
       "      <td>35338.33</td>\n",
       "      <td>1670.998639</td>\n",
       "      <td>0.008692</td>\n",
       "      <td>0.0</td>\n",
       "    </tr>\n",
       "    <tr>\n",
       "      <th>4</th>\n",
       "      <td>2021-02-02 10:00:00+00:00</td>\n",
       "      <td>34881.62</td>\n",
       "      <td>35432.33</td>\n",
       "      <td>35346.09</td>\n",
       "      <td>35157.55</td>\n",
       "      <td>836.005195</td>\n",
       "      <td>0.008662</td>\n",
       "      <td>0.0</td>\n",
       "    </tr>\n",
       "    <tr>\n",
       "      <th>5</th>\n",
       "      <td>2021-02-02 11:00:00+00:00</td>\n",
       "      <td>34674.39</td>\n",
       "      <td>35279.85</td>\n",
       "      <td>35160.97</td>\n",
       "      <td>34710.00</td>\n",
       "      <td>681.620162</td>\n",
       "      <td>0.008708</td>\n",
       "      <td>1.0</td>\n",
       "    </tr>\n",
       "    <tr>\n",
       "      <th>6</th>\n",
       "      <td>2021-02-02 12:00:00+00:00</td>\n",
       "      <td>34572.63</td>\n",
       "      <td>35031.56</td>\n",
       "      <td>34710.00</td>\n",
       "      <td>34810.59</td>\n",
       "      <td>712.759111</td>\n",
       "      <td>0.008644</td>\n",
       "      <td>1.0</td>\n",
       "    </tr>\n",
       "    <tr>\n",
       "      <th>7</th>\n",
       "      <td>2021-02-02 13:00:00+00:00</td>\n",
       "      <td>34778.85</td>\n",
       "      <td>35237.51</td>\n",
       "      <td>34810.59</td>\n",
       "      <td>34865.93</td>\n",
       "      <td>664.623225</td>\n",
       "      <td>0.008566</td>\n",
       "      <td>1.0</td>\n",
       "    </tr>\n",
       "    <tr>\n",
       "      <th>8</th>\n",
       "      <td>2021-02-02 14:00:00+00:00</td>\n",
       "      <td>34403.73</td>\n",
       "      <td>34948.17</td>\n",
       "      <td>34871.22</td>\n",
       "      <td>34817.00</td>\n",
       "      <td>992.420135</td>\n",
       "      <td>0.008497</td>\n",
       "      <td>1.0</td>\n",
       "    </tr>\n",
       "    <tr>\n",
       "      <th>9</th>\n",
       "      <td>2021-02-02 15:00:00+00:00</td>\n",
       "      <td>34600.00</td>\n",
       "      <td>35200.00</td>\n",
       "      <td>34818.65</td>\n",
       "      <td>34750.02</td>\n",
       "      <td>1249.738307</td>\n",
       "      <td>0.008435</td>\n",
       "      <td>1.0</td>\n",
       "    </tr>\n",
       "  </tbody>\n",
       "</table>\n",
       "</div>"
      ],
      "text/plain": [
       "                   timestamp       low      high      open     close  \\\n",
       "0  2021-02-02 06:00:00+00:00  33961.99  34350.00  34026.99  34306.72   \n",
       "1  2021-02-02 07:00:00+00:00  34161.18  34404.86  34318.27  34260.00   \n",
       "2  2021-02-02 08:00:00+00:00  34122.38  34691.25  34254.53  34687.91   \n",
       "3  2021-02-02 09:00:00+00:00  34689.63  35649.22  34689.63  35338.33   \n",
       "4  2021-02-02 10:00:00+00:00  34881.62  35432.33  35346.09  35157.55   \n",
       "5  2021-02-02 11:00:00+00:00  34674.39  35279.85  35160.97  34710.00   \n",
       "6  2021-02-02 12:00:00+00:00  34572.63  35031.56  34710.00  34810.59   \n",
       "7  2021-02-02 13:00:00+00:00  34778.85  35237.51  34810.59  34865.93   \n",
       "8  2021-02-02 14:00:00+00:00  34403.73  34948.17  34871.22  34817.00   \n",
       "9  2021-02-02 15:00:00+00:00  34600.00  35200.00  34818.65  34750.02   \n",
       "\n",
       "        volume  threshold  label  \n",
       "0   774.068600   0.008630    1.0  \n",
       "1   587.215907   0.008559    1.0  \n",
       "2   623.271300   0.008595    1.0  \n",
       "3  1670.998639   0.008692    0.0  \n",
       "4   836.005195   0.008662    0.0  \n",
       "5   681.620162   0.008708    1.0  \n",
       "6   712.759111   0.008644    1.0  \n",
       "7   664.623225   0.008566    1.0  \n",
       "8   992.420135   0.008497    1.0  \n",
       "9  1249.738307   0.008435    1.0  "
      ]
     },
     "execution_count": 2,
     "metadata": {},
     "output_type": "execute_result"
    }
   ],
   "source": [
    "#Importing the data\n",
    "complete_data = pd.read_csv('/Users/nishantsikarwar/Desktop/@code/PerpetualProjects/Python/PerpetualProjectSandboxEnv/bezant-assignment/bezant-assignement-data/assignment_labels_ohlcv.csv')\n",
    "\n",
    "#Displaying the first 10 rows\n",
    "complete_data.head(10)"
   ]
  },
  {
   "cell_type": "code",
   "execution_count": 3,
   "metadata": {},
   "outputs": [
    {
     "name": "stdout",
     "output_type": "stream",
     "text": [
      "<class 'pandas.core.frame.DataFrame'>\n",
      "RangeIndex: 12130 entries, 0 to 12129\n",
      "Data columns (total 8 columns):\n",
      " #   Column     Non-Null Count  Dtype  \n",
      "---  ------     --------------  -----  \n",
      " 0   timestamp  12130 non-null  object \n",
      " 1   low        12130 non-null  float64\n",
      " 2   high       12130 non-null  float64\n",
      " 3   open       12130 non-null  float64\n",
      " 4   close      12130 non-null  float64\n",
      " 5   volume     12130 non-null  float64\n",
      " 6   threshold  12130 non-null  float64\n",
      " 7   label      12125 non-null  float64\n",
      "dtypes: float64(7), object(1)\n",
      "memory usage: 758.2+ KB\n",
      "None\n"
     ]
    }
   ],
   "source": [
    "#Printing the dataset info\n",
    "print(complete_data.info())"
   ]
  },
  {
   "cell_type": "code",
   "execution_count": 4,
   "metadata": {},
   "outputs": [
    {
     "name": "stdout",
     "output_type": "stream",
     "text": [
      "Shape Of Training Set : (10917, 8)\n",
      "Shape Of Test Set : (1213, 8)\n"
     ]
    }
   ],
   "source": [
    "#Setting The training set ratio\n",
    "training_ratio = 90\n",
    "\n",
    "#Calculating the test set ratio\n",
    "test_ratio = 100-training_ratio\n",
    "\n",
    "#Rounding the training set length to avoid fractions\n",
    "training_len = round(len(complete_data)*(training_ratio/100))\n",
    "\n",
    "#Setting the Test set length\n",
    "test_len = round(len(complete_data)-training_len)\n",
    "\n",
    "#Splitting the data based on the calculated lengths\n",
    "dataset_train = complete_data.tail(training_len)\n",
    "dataset_test = complete_data.head(test_len)\n",
    "\n",
    "#Printing the shapes of training and test sets\n",
    "\n",
    "print(\"Shape Of Training Set :\", dataset_train.shape)\n",
    "print(\"Shape Of Test Set :\", dataset_test.shape)"
   ]
  },
  {
   "cell_type": "code",
   "execution_count": 5,
   "metadata": {},
   "outputs": [
    {
     "name": "stdout",
     "output_type": "stream",
     "text": [
      "                      timestamp       low      high      open     close  \\\n",
      "1203  2021-03-24 09:00:00+00:00  56308.83  56666.67  56312.18  56391.68   \n",
      "1204  2021-03-24 10:00:00+00:00  56024.50  56596.99  56391.68  56465.13   \n",
      "1205  2021-03-24 11:00:00+00:00  56290.00  56647.36  56465.13  56588.58   \n",
      "1206  2021-03-24 12:00:00+00:00  56581.68  57060.07  56581.68  56917.19   \n",
      "1207  2021-03-24 13:00:00+00:00  56369.02  57209.97  56927.37  56785.97   \n",
      "1208  2021-03-24 14:00:00+00:00  56430.00  56931.49  56785.97  56516.48   \n",
      "1209  2021-03-24 15:00:00+00:00  56002.44  56632.63  56516.49  56261.37   \n",
      "1210  2021-03-24 16:00:00+00:00  55706.92  56386.22  56261.37  55731.87   \n",
      "1211  2021-03-24 17:00:00+00:00  55555.56  56373.36  55731.87  56122.01   \n",
      "1212  2021-03-24 18:00:00+00:00  55310.00  56335.94  56122.00  55328.47   \n",
      "\n",
      "           volume  threshold  label  \n",
      "1203   666.609001   0.005885    1.0  \n",
      "1204   566.588054   0.005839    0.0  \n",
      "1205   664.471374   0.005802    0.0  \n",
      "1206   967.816787   0.005801    0.0  \n",
      "1207  1080.855676   0.005767    0.0  \n",
      "1208   865.296704   0.005757    0.0  \n",
      "1209   979.984130   0.005745    0.0  \n",
      "1210   984.008383   0.005780    0.0  \n",
      "1211   670.906014   0.005793    0.0  \n",
      "1212  1000.793242   0.005874    0.0  \n",
      "                      timestamp       low      high      open     close  \\\n",
      "1213  2021-03-24 19:00:00+00:00  54600.00  55527.66  55328.47  54681.18   \n",
      "1214  2021-03-24 20:00:00+00:00  53147.57  54681.18  54681.18  54044.98   \n",
      "1215  2021-03-24 21:00:00+00:00  53541.99  54219.13  54037.49  53723.73   \n",
      "1216  2021-03-24 22:00:00+00:00  51673.82  53723.73  53723.72  52520.76   \n",
      "1217  2021-03-24 23:00:00+00:00  52214.00  52950.00  52518.85  52276.16   \n",
      "1218  2021-03-25 00:00:00+00:00  52020.12  52777.00  52259.69  52613.89   \n",
      "1219  2021-03-25 01:00:00+00:00  51716.53  52755.09  52606.96  51796.09   \n",
      "1220  2021-03-25 02:00:00+00:00  51500.00  52555.77  51820.45  52230.81   \n",
      "1221  2021-03-25 03:00:00+00:00  51816.55  52561.34  52230.80  52109.27   \n",
      "1222  2021-03-25 04:00:00+00:00  51888.05  52480.33  52109.27  52239.64   \n",
      "\n",
      "           volume  threshold  label  \n",
      "1213  1096.879534   0.005929    0.0  \n",
      "1214  2423.520615   0.005982    0.0  \n",
      "1215   929.294090   0.005977    0.0  \n",
      "1216  3225.244123   0.006134    0.0  \n",
      "1217  1297.818381   0.006112    0.0  \n",
      "1218  1133.830853   0.006122    1.0  \n",
      "1219  1374.728673   0.006208    1.0  \n",
      "1220  1693.311514   0.006237    1.0  \n",
      "1221   985.484164   0.006191    1.0  \n",
      "1222   629.808417   0.006161    1.0  \n"
     ]
    }
   ],
   "source": [
    "#Printing the training and test sets\n",
    "print(dataset_test.tail(10))\n",
    "print(dataset_train.head(10))"
   ]
  },
  {
   "cell_type": "code",
   "execution_count": 6,
   "metadata": {},
   "outputs": [
    {
     "name": "stderr",
     "output_type": "stream",
     "text": [
      "/var/folders/r5/71898yc903z3qygv10q2_lc80000gn/T/ipykernel_46127/710278390.py:2: SettingWithCopyWarning: \n",
      "A value is trying to be set on a copy of a slice from a DataFrame.\n",
      "Try using .loc[row_indexer,col_indexer] = value instead\n",
      "\n",
      "See the caveats in the documentation: https://pandas.pydata.org/pandas-docs/stable/user_guide/indexing.html#returning-a-view-versus-a-copy\n",
      "  dataset_train['Date'] = pd.to_datetime(dataset_train['timestamp'])\n"
     ]
    }
   ],
   "source": [
    "#Setting the date colum to date format\n",
    "dataset_train['Date'] = pd.to_datetime(dataset_train['timestamp'])"
   ]
  },
  {
   "cell_type": "code",
   "execution_count": 7,
   "metadata": {},
   "outputs": [],
   "source": [
    "#Setting Date column as Index\n",
    "dataset_train.set_index('Date', inplace = True)"
   ]
  },
  {
   "cell_type": "code",
   "execution_count": 8,
   "metadata": {},
   "outputs": [
    {
     "name": "stderr",
     "output_type": "stream",
     "text": [
      "/usr/local/lib/python3.9/site-packages/pandas/util/_decorators.py:311: SettingWithCopyWarning: \n",
      "A value is trying to be set on a copy of a slice from a DataFrame\n",
      "\n",
      "See the caveats in the documentation: https://pandas.pydata.org/pandas-docs/stable/user_guide/indexing.html#returning-a-view-versus-a-copy\n",
      "  return func(*args, **kwargs)\n"
     ]
    }
   ],
   "source": [
    "#Sorting the dataset based on increasing Dates\n",
    "dataset_train.sort_values(by='Date',ascending=True, inplace = True)"
   ]
  },
  {
   "cell_type": "code",
   "execution_count": 9,
   "metadata": {},
   "outputs": [
    {
     "name": "stdout",
     "output_type": "stream",
     "text": [
      "                                           timestamp       low      high  \\\n",
      "Date                                                                       \n",
      "2021-03-24 19:00:00+00:00  2021-03-24 19:00:00+00:00  54600.00  55527.66   \n",
      "2021-03-24 20:00:00+00:00  2021-03-24 20:00:00+00:00  53147.57  54681.18   \n",
      "2021-03-24 21:00:00+00:00  2021-03-24 21:00:00+00:00  53541.99  54219.13   \n",
      "2021-03-24 22:00:00+00:00  2021-03-24 22:00:00+00:00  51673.82  53723.73   \n",
      "2021-03-24 23:00:00+00:00  2021-03-24 23:00:00+00:00  52214.00  52950.00   \n",
      "2021-03-25 00:00:00+00:00  2021-03-25 00:00:00+00:00  52020.12  52777.00   \n",
      "2021-03-25 01:00:00+00:00  2021-03-25 01:00:00+00:00  51716.53  52755.09   \n",
      "2021-03-25 02:00:00+00:00  2021-03-25 02:00:00+00:00  51500.00  52555.77   \n",
      "2021-03-25 03:00:00+00:00  2021-03-25 03:00:00+00:00  51816.55  52561.34   \n",
      "2021-03-25 04:00:00+00:00  2021-03-25 04:00:00+00:00  51888.05  52480.33   \n",
      "\n",
      "                               open     close       volume  threshold  label  \n",
      "Date                                                                          \n",
      "2021-03-24 19:00:00+00:00  55328.47  54681.18  1096.879534   0.005929    0.0  \n",
      "2021-03-24 20:00:00+00:00  54681.18  54044.98  2423.520615   0.005982    0.0  \n",
      "2021-03-24 21:00:00+00:00  54037.49  53723.73   929.294090   0.005977    0.0  \n",
      "2021-03-24 22:00:00+00:00  53723.72  52520.76  3225.244123   0.006134    0.0  \n",
      "2021-03-24 23:00:00+00:00  52518.85  52276.16  1297.818381   0.006112    0.0  \n",
      "2021-03-25 00:00:00+00:00  52259.69  52613.89  1133.830853   0.006122    1.0  \n",
      "2021-03-25 01:00:00+00:00  52606.96  51796.09  1374.728673   0.006208    1.0  \n",
      "2021-03-25 02:00:00+00:00  51820.45  52230.81  1693.311514   0.006237    1.0  \n",
      "2021-03-25 03:00:00+00:00  52230.80  52109.27   985.484164   0.006191    1.0  \n",
      "2021-03-25 04:00:00+00:00  52109.27  52239.64   629.808417   0.006161    1.0  \n"
     ]
    }
   ],
   "source": [
    "print(dataset_train.head(10))"
   ]
  },
  {
   "cell_type": "code",
   "execution_count": 10,
   "metadata": {},
   "outputs": [
    {
     "name": "stdout",
     "output_type": "stream",
     "text": [
      "\n",
      "           \u001b[47m        \u001b[43m        \u001b[46m        \u001b[42m        \u001b[45m        \u001b[41m        \u001b[44m        \u001b[m\n",
      "           \u001b[47m        \u001b[43m        \u001b[46m        \u001b[42m        \u001b[45m        \u001b[41m        \u001b[44m        \u001b[m\n",
      "           \u001b[47m        \u001b[43m        \u001b[46m        \u001b[42m        \u001b[45m        \u001b[41m        \u001b[44m        \u001b[m\n",
      "           \u001b[47m        \u001b[43m        \u001b[46m        \u001b[42m        \u001b[45m        \u001b[41m        \u001b[44m        \u001b[m\n",
      "           \u001b[47m        \u001b[43m        \u001b[46m        \u001b[42m        \u001b[45m        \u001b[41m        \u001b[44m        \u001b[m\n",
      "           \u001b[47m        \u001b[43m        \u001b[46m        \u001b[42m        \u001b[45m        \u001b[41m        \u001b[44m        \u001b[m\n",
      "           \u001b[47m        \u001b[43m        \u001b[46m        \u001b[42m        \u001b[45m        \u001b[41m        \u001b[44m        \u001b[m\n",
      "           \u001b[47m        \u001b[43m        \u001b[46m        \u001b[42m        \u001b[45m        \u001b[41m        \u001b[44m        \u001b[m\n",
      "           \u001b[47m        \u001b[43m        \u001b[46m        \u001b[42m        \u001b[45m        \u001b[41m        \u001b[44m        \u001b[m\n",
      "           \u001b[47m        \u001b[43m        \u001b[46m        \u001b[42m        \u001b[45m        \u001b[41m        \u001b[44m        \u001b[m\n",
      "           \u001b[47m        \u001b[43m        \u001b[46m        \u001b[42m        \u001b[45m        \u001b[41m        \u001b[44m        \u001b[m\n",
      "           \u001b[47m        \u001b[43m        \u001b[46m        \u001b[42m        \u001b[45m        \u001b[41m        \u001b[44m        \u001b[m\n",
      "           \u001b[47m        \u001b[43m        \u001b[46m        \u001b[42m        \u001b[45m        \u001b[41m        \u001b[44m        \u001b[m\n",
      "           \u001b[47m        \u001b[43m        \u001b[46m        \u001b[42m        \u001b[45m        \u001b[41m        \u001b[44m        \u001b[m\n",
      "           \u001b[44m        \u001b[40m        \u001b[45m        \u001b[40m        \u001b[46m        \u001b[40m        \u001b[47m        \u001b[m\n",
      "           \u001b[44m        \u001b[40m        \u001b[45m        \u001b[40m        \u001b[46m        \u001b[40m        \u001b[47m        \u001b[m\n",
      "           \u001b[44m  \u001b[44m  \u001b[44m  \u001b[44m  \u001b[44m  \u001b[47m  \u001b[47m  \u001b[47m  \u001b[47m  \u001b[47m  \u001b[45m  \u001b[45m  \u001b[45m  \u001b[45m  \u001b[45m  \u001b[40m  \u001b[40m  \u001b[40m  \u001b[40m  \u001b[40m  \u001b[40m  \u001b[40m  \u001b[40m  \u001b[40m  \u001b[40m  \u001b[40m  \u001b[40m  \u001b[40m  \u001b[m\n",
      "           \u001b[44m  \u001b[44m  \u001b[44m  \u001b[44m  \u001b[44m  \u001b[47m  \u001b[47m  \u001b[47m  \u001b[47m  \u001b[47m  \u001b[45m  \u001b[45m  \u001b[45m  \u001b[45m  \u001b[45m  \u001b[40m  \u001b[40m  \u001b[40m  \u001b[40m  \u001b[40m  \u001b[40m  \u001b[40m  \u001b[40m  \u001b[40m  \u001b[40m  \u001b[40m  \u001b[40m  \u001b[40m  \u001b[m\n",
      "           \u001b[44m  \u001b[44m  \u001b[44m  \u001b[44m  \u001b[44m  \u001b[47m  \u001b[47m  \u001b[47m  \u001b[47m  \u001b[47m  \u001b[45m  \u001b[45m  \u001b[45m  \u001b[45m  \u001b[45m  \u001b[40m  \u001b[40m  \u001b[40m  \u001b[40m  \u001b[40m  \u001b[40m  \u001b[40m  \u001b[40m  \u001b[40m  \u001b[40m  \u001b[40m  \u001b[40m  \u001b[40m  \u001b[m\n",
      "           \u001b[44m  \u001b[44m  \u001b[44m  \u001b[44m  \u001b[44m  \u001b[47m  \u001b[47m  \u001b[47m  \u001b[47m  \u001b[47m  \u001b[45m  \u001b[45m  \u001b[45m  \u001b[45m  \u001b[45m  \u001b[40m  \u001b[40m  \u001b[40m  \u001b[40m  \u001b[40m  \u001b[40m  \u001b[40m  \u001b[40m  \u001b[40m  \u001b[40m  \u001b[40m  \u001b[40m  \u001b[40m  \u001b[m\n",
      "           \u001b[44m  \u001b[44m  \u001b[44m  \u001b[44m  \u001b[44m  \u001b[47m  \u001b[47m  \u001b[47m  \u001b[47m  \u001b[47m  \u001b[45m  \u001b[45m  \u001b[45m  \u001b[45m  \u001b[45m  \u001b[40m  \u001b[40m  \u001b[40m  \u001b[40m  \u001b[40m  \u001b[40m  \u001b[40m  \u001b[40m  \u001b[40m  \u001b[40m  \u001b[40m  \u001b[40m  \u001b[40m  \u001b[m\n",
      "\n",
      "\u001b[33mDEPRECATION: Configuring installation scheme with distutils config files is deprecated and will no longer work in the near future. If you are using a Homebrew or Linuxbrew Python, please see discussion at https://github.com/Homebrew/homebrew-core/issues/76621\u001b[0m\u001b[33m\n",
      "\u001b[0mRequirement already satisfied: scikit-learn in /usr/local/lib/python3.9/site-packages (1.1.3)\n",
      "Requirement already satisfied: scipy in /usr/local/lib/python3.9/site-packages (1.9.3)\n",
      "Requirement already satisfied: matplotlib in /usr/local/lib/python3.9/site-packages (3.6.2)\n",
      "Requirement already satisfied: keras in /usr/local/lib/python3.9/site-packages (2.11.0)\n",
      "Requirement already satisfied: tensorflow in /usr/local/lib/python3.9/site-packages (2.11.0)\n",
      "Requirement already satisfied: joblib>=1.0.0 in /usr/local/lib/python3.9/site-packages (from scikit-learn) (1.2.0)\n",
      "Requirement already satisfied: threadpoolctl>=2.0.0 in /usr/local/lib/python3.9/site-packages (from scikit-learn) (3.1.0)\n",
      "Requirement already satisfied: numpy>=1.17.3 in /usr/local/lib/python3.9/site-packages (from scikit-learn) (1.21.2)\n",
      "Requirement already satisfied: cycler>=0.10 in /usr/local/lib/python3.9/site-packages (from matplotlib) (0.10.0)\n",
      "Requirement already satisfied: fonttools>=4.22.0 in /usr/local/lib/python3.9/site-packages (from matplotlib) (4.38.0)\n",
      "Requirement already satisfied: kiwisolver>=1.0.1 in /usr/local/lib/python3.9/site-packages (from matplotlib) (1.3.2)\n",
      "Requirement already satisfied: pyparsing>=2.2.1 in /usr/local/lib/python3.9/site-packages (from matplotlib) (2.4.7)\n",
      "Requirement already satisfied: python-dateutil>=2.7 in /usr/local/lib/python3.9/site-packages (from matplotlib) (2.8.2)\n",
      "Requirement already satisfied: contourpy>=1.0.1 in /usr/local/lib/python3.9/site-packages (from matplotlib) (1.0.6)\n",
      "Requirement already satisfied: pillow>=6.2.0 in /usr/local/lib/python3.9/site-packages (from matplotlib) (8.3.1)\n",
      "Requirement already satisfied: packaging>=20.0 in /usr/local/lib/python3.9/site-packages (from matplotlib) (21.3)\n",
      "Requirement already satisfied: absl-py>=1.0.0 in /usr/local/lib/python3.9/site-packages (from tensorflow) (1.3.0)\n",
      "Requirement already satisfied: gast<=0.4.0,>=0.2.1 in /usr/local/lib/python3.9/site-packages (from tensorflow) (0.4.0)\n",
      "Requirement already satisfied: six>=1.12.0 in /usr/local/lib/python3.9/site-packages (from tensorflow) (1.15.0)\n",
      "Requirement already satisfied: opt-einsum>=2.3.2 in /usr/local/lib/python3.9/site-packages (from tensorflow) (3.3.0)\n",
      "Requirement already satisfied: termcolor>=1.1.0 in /usr/local/lib/python3.9/site-packages (from tensorflow) (2.1.0)\n",
      "Requirement already satisfied: tensorflow-io-gcs-filesystem>=0.23.1 in /usr/local/lib/python3.9/site-packages (from tensorflow) (0.27.0)\n",
      "Requirement already satisfied: h5py>=2.9.0 in /usr/local/lib/python3.9/site-packages (from tensorflow) (3.7.0)\n",
      "Requirement already satisfied: protobuf<3.20,>=3.9.2 in /usr/local/lib/python3.9/site-packages (from tensorflow) (3.19.6)\n",
      "Requirement already satisfied: setuptools in /usr/local/lib/python3.9/site-packages (from tensorflow) (65.4.1)\n",
      "Requirement already satisfied: google-pasta>=0.1.1 in /usr/local/lib/python3.9/site-packages (from tensorflow) (0.2.0)\n",
      "Requirement already satisfied: astunparse>=1.6.0 in /usr/local/lib/python3.9/site-packages (from tensorflow) (1.6.3)\n",
      "Requirement already satisfied: libclang>=13.0.0 in /usr/local/lib/python3.9/site-packages (from tensorflow) (14.0.6)\n",
      "Requirement already satisfied: typing-extensions>=3.6.6 in /usr/local/lib/python3.9/site-packages (from tensorflow) (4.4.0)\n",
      "Requirement already satisfied: grpcio<2.0,>=1.24.3 in /usr/local/lib/python3.9/site-packages (from tensorflow) (1.50.0)\n",
      "Requirement already satisfied: tensorboard<2.12,>=2.11 in /usr/local/lib/python3.9/site-packages (from tensorflow) (2.11.0)\n",
      "Requirement already satisfied: flatbuffers>=2.0 in /usr/local/lib/python3.9/site-packages (from tensorflow) (22.10.26)\n",
      "Requirement already satisfied: tensorflow-estimator<2.12,>=2.11.0 in /usr/local/lib/python3.9/site-packages (from tensorflow) (2.11.0)\n",
      "Requirement already satisfied: wrapt>=1.11.0 in /usr/local/lib/python3.9/site-packages (from tensorflow) (1.14.1)\n",
      "Requirement already satisfied: wheel<1.0,>=0.23.0 in /usr/local/lib/python3.9/site-packages (from astunparse>=1.6.0->tensorflow) (0.37.1)\n",
      "Requirement already satisfied: tensorboard-plugin-wit>=1.6.0 in /usr/local/lib/python3.9/site-packages (from tensorboard<2.12,>=2.11->tensorflow) (1.8.1)\n",
      "Requirement already satisfied: requests<3,>=2.21.0 in /usr/local/lib/python3.9/site-packages (from tensorboard<2.12,>=2.11->tensorflow) (2.26.0)\n",
      "Requirement already satisfied: werkzeug>=1.0.1 in /usr/local/lib/python3.9/site-packages (from tensorboard<2.12,>=2.11->tensorflow) (2.2.2)\n",
      "Requirement already satisfied: markdown>=2.6.8 in /usr/local/lib/python3.9/site-packages (from tensorboard<2.12,>=2.11->tensorflow) (3.4.1)\n",
      "Requirement already satisfied: tensorboard-data-server<0.7.0,>=0.6.0 in /usr/local/lib/python3.9/site-packages (from tensorboard<2.12,>=2.11->tensorflow) (0.6.1)\n",
      "Requirement already satisfied: google-auth-oauthlib<0.5,>=0.4.1 in /usr/local/lib/python3.9/site-packages (from tensorboard<2.12,>=2.11->tensorflow) (0.4.6)\n",
      "Requirement already satisfied: google-auth<3,>=1.6.3 in /usr/local/lib/python3.9/site-packages (from tensorboard<2.12,>=2.11->tensorflow) (2.14.1)\n",
      "Requirement already satisfied: cachetools<6.0,>=2.0.0 in /usr/local/lib/python3.9/site-packages (from google-auth<3,>=1.6.3->tensorboard<2.12,>=2.11->tensorflow) (5.2.0)\n",
      "Requirement already satisfied: pyasn1-modules>=0.2.1 in /usr/local/lib/python3.9/site-packages (from google-auth<3,>=1.6.3->tensorboard<2.12,>=2.11->tensorflow) (0.2.8)\n",
      "Requirement already satisfied: rsa<5,>=3.1.4 in /usr/local/lib/python3.9/site-packages (from google-auth<3,>=1.6.3->tensorboard<2.12,>=2.11->tensorflow) (4.9)\n",
      "Requirement already satisfied: requests-oauthlib>=0.7.0 in /usr/local/lib/python3.9/site-packages (from google-auth-oauthlib<0.5,>=0.4.1->tensorboard<2.12,>=2.11->tensorflow) (1.3.1)\n",
      "Requirement already satisfied: importlib-metadata>=4.4 in /usr/local/lib/python3.9/site-packages (from markdown>=2.6.8->tensorboard<2.12,>=2.11->tensorflow) (5.0.0)\n",
      "Requirement already satisfied: certifi>=2017.4.17 in /usr/local/lib/python3.9/site-packages (from requests<3,>=2.21.0->tensorboard<2.12,>=2.11->tensorflow) (2021.5.30)\n",
      "Requirement already satisfied: charset-normalizer~=2.0.0 in /usr/local/lib/python3.9/site-packages (from requests<3,>=2.21.0->tensorboard<2.12,>=2.11->tensorflow) (2.0.4)\n",
      "Requirement already satisfied: urllib3<1.27,>=1.21.1 in /usr/local/lib/python3.9/site-packages (from requests<3,>=2.21.0->tensorboard<2.12,>=2.11->tensorflow) (1.26.6)\n",
      "Requirement already satisfied: idna<4,>=2.5 in /usr/local/lib/python3.9/site-packages (from requests<3,>=2.21.0->tensorboard<2.12,>=2.11->tensorflow) (3.2)\n"
     ]
    },
    {
     "name": "stdout",
     "output_type": "stream",
     "text": [
      "Requirement already satisfied: MarkupSafe>=2.1.1 in /usr/local/lib/python3.9/site-packages (from werkzeug>=1.0.1->tensorboard<2.12,>=2.11->tensorflow) (2.1.1)\n",
      "Requirement already satisfied: zipp>=0.5 in /usr/local/lib/python3.9/site-packages (from importlib-metadata>=4.4->markdown>=2.6.8->tensorboard<2.12,>=2.11->tensorflow) (3.10.0)\n",
      "Requirement already satisfied: pyasn1<0.5.0,>=0.4.6 in /usr/local/lib/python3.9/site-packages (from pyasn1-modules>=0.2.1->google-auth<3,>=1.6.3->tensorboard<2.12,>=2.11->tensorflow) (0.4.8)\n",
      "Requirement already satisfied: oauthlib>=3.0.0 in /usr/local/lib/python3.9/site-packages (from requests-oauthlib>=0.7.0->google-auth-oauthlib<0.5,>=0.4.1->tensorboard<2.12,>=2.11->tensorflow) (3.2.2)\n",
      "\u001b[33mDEPRECATION: Configuring installation scheme with distutils config files is deprecated and will no longer work in the near future. If you are using a Homebrew or Linuxbrew Python, please see discussion at https://github.com/Homebrew/homebrew-core/issues/76621\u001b[0m\u001b[33m\n",
      "\u001b[0mNote: you may need to restart the kernel to use updated packages.\n"
     ]
    }
   ],
   "source": [
    "pip install -U scikit-learn scipy matplotlib keras tensorflow"
   ]
  },
  {
   "cell_type": "code",
   "execution_count": 11,
   "metadata": {},
   "outputs": [],
   "source": [
    "#A method to preprocess the data in to sequences and to return x and y \n",
    "\n",
    "#Initializing the MinMaxScaler object\n",
    "from sklearn.preprocessing import MinMaxScaler\n",
    "sc = MinMaxScaler(feature_range = (0,1))\n",
    "\n",
    "def bit_pre_process(raw_data , seq_len, column = 1):\n",
    "  \n",
    "  #Select the feature/column \n",
    "  data = raw_data.iloc[:, column].values\n",
    "  data = data.reshape(-1, 1)\n",
    "  \n",
    "  #Feature Scaling\n",
    "  data = sc.fit_transform(data)\n",
    "  \n",
    "  #Making sequences\n",
    "  \n",
    "  X = []\n",
    "  y = []\n",
    "\n",
    "  for i in range(seq_len, len(data)):\n",
    "      X.append(data[i-seq_len:i, 0])\n",
    "      y.append(data[i, 0])\n",
    "  X, y = np.array(X), np.array(y)\n",
    "\n",
    "  # Reshaping\n",
    "  X = np.reshape(X, (X.shape[0], X.shape[1], 1))\n",
    "  \n",
    "  return X, y"
   ]
  },
  {
   "cell_type": "code",
   "execution_count": 12,
   "metadata": {},
   "outputs": [],
   "source": [
    "#Setting the sequence length (Try different values)\n",
    "sequence_length = 60\n",
    "\n",
    "#Choosing the idex of the Close column\n",
    "comumn_index= 3\n",
    "\n",
    "#Preprocessing the training set\n",
    "X_train, y_train = bit_pre_process(dataset_train , sequence_length, comumn_index)"
   ]
  },
  {
   "cell_type": "code",
   "execution_count": 13,
   "metadata": {},
   "outputs": [
    {
     "data": {
      "text/plain": [
       "(10857, 60, 1)"
      ]
     },
     "execution_count": 13,
     "metadata": {},
     "output_type": "execute_result"
    }
   ],
   "source": [
    "X_train.shape"
   ]
  },
  {
   "cell_type": "code",
   "execution_count": 14,
   "metadata": {},
   "outputs": [
    {
     "data": {
      "text/plain": [
       "(10857,)"
      ]
     },
     "execution_count": 14,
     "metadata": {},
     "output_type": "execute_result"
    }
   ],
   "source": [
    "y_train.shape"
   ]
  },
  {
   "cell_type": "code",
   "execution_count": 18,
   "metadata": {},
   "outputs": [],
   "source": [
    "#Importing the Keras libraries and packages\n",
    "from keras.models import Sequential\n",
    "from keras.layers import Dense\n",
    "from keras.layers import LSTM, CuDNNLSTM\n",
    "from keras.layers import Dropout\n",
    "\n",
    "#Initialising the RNN\n",
    "regressor = Sequential()\n",
    "\n",
    "#Adding the first LSTM layer and some Dropout regularisation\n",
    "regressor.add(LSTM(units = 50, return_sequences = True, input_shape = (X_train.shape[1], 1)))\n",
    "regressor.add(Dropout(0.2))\n",
    "\n",
    "#Adding a second LSTM layer and some Dropout regularisation\n",
    "regressor.add(LSTM(units = 50, return_sequences = True))\n",
    "regressor.add(Dropout(0.2))\n",
    "\n",
    "#Adding a third LSTM layer and some Dropout regularisation\n",
    "regressor.add(LSTM(units = 50, return_sequences = True))\n",
    "regressor.add(Dropout(0.2))\n",
    "\n",
    "#Adding a fourth LSTM layer and some Dropout regularisation\n",
    "regressor.add(LSTM(units = 50))\n",
    "regressor.add(Dropout(0.2))\n",
    "\n",
    "#Adding the output layer\n",
    "regressor.add(Dense(units = 1))"
   ]
  },
  {
   "cell_type": "code",
   "execution_count": 19,
   "metadata": {},
   "outputs": [],
   "source": [
    "#Compiling the RNN\n",
    "regressor.compile(optimizer = 'adam', loss = 'mean_squared_error', metrics = ['mse', 'mae'])"
   ]
  },
  {
   "cell_type": "code",
   "execution_count": 20,
   "metadata": {},
   "outputs": [
    {
     "name": "stdout",
     "output_type": "stream",
     "text": [
      "Epoch 1/50\n",
      "218/218 [==============================] - 23s 83ms/step - loss: 0.0092 - mse: 0.0092 - mae: 0.0615\n",
      "Epoch 2/50\n",
      "218/218 [==============================] - 15s 67ms/step - loss: 0.0030 - mse: 0.0030 - mae: 0.0409\n",
      "Epoch 3/50\n",
      "218/218 [==============================] - 14s 66ms/step - loss: 0.0025 - mse: 0.0025 - mae: 0.0376\n",
      "Epoch 4/50\n",
      "218/218 [==============================] - 14s 66ms/step - loss: 0.0022 - mse: 0.0022 - mae: 0.0354\n",
      "Epoch 5/50\n",
      "218/218 [==============================] - 14s 66ms/step - loss: 0.0021 - mse: 0.0021 - mae: 0.0342\n",
      "Epoch 6/50\n",
      "218/218 [==============================] - 15s 67ms/step - loss: 0.0019 - mse: 0.0019 - mae: 0.0332\n",
      "Epoch 7/50\n",
      "218/218 [==============================] - 14s 66ms/step - loss: 0.0016 - mse: 0.0016 - mae: 0.0297\n",
      "Epoch 8/50\n",
      "218/218 [==============================] - 14s 66ms/step - loss: 0.0014 - mse: 0.0014 - mae: 0.0281\n",
      "Epoch 9/50\n",
      "218/218 [==============================] - 15s 67ms/step - loss: 0.0015 - mse: 0.0015 - mae: 0.0285\n",
      "Epoch 10/50\n",
      "218/218 [==============================] - 15s 67ms/step - loss: 0.0012 - mse: 0.0012 - mae: 0.0260\n",
      "Epoch 11/50\n",
      "218/218 [==============================] - 14s 66ms/step - loss: 0.0012 - mse: 0.0012 - mae: 0.0256\n",
      "Epoch 12/50\n",
      "218/218 [==============================] - 15s 67ms/step - loss: 0.0011 - mse: 0.0011 - mae: 0.0243\n",
      "Epoch 13/50\n",
      "218/218 [==============================] - 15s 67ms/step - loss: 9.7999e-04 - mse: 9.7999e-04 - mae: 0.0230\n",
      "Epoch 14/50\n",
      "218/218 [==============================] - 15s 68ms/step - loss: 9.3201e-04 - mse: 9.3201e-04 - mae: 0.0225\n",
      "Epoch 15/50\n",
      "218/218 [==============================] - 15s 67ms/step - loss: 8.6297e-04 - mse: 8.6297e-04 - mae: 0.0215\n",
      "Epoch 16/50\n",
      "218/218 [==============================] - 15s 69ms/step - loss: 8.4210e-04 - mse: 8.4210e-04 - mae: 0.0212\n",
      "Epoch 17/50\n",
      "218/218 [==============================] - 15s 68ms/step - loss: 7.5483e-04 - mse: 7.5483e-04 - mae: 0.0199\n",
      "Epoch 18/50\n",
      "218/218 [==============================] - 15s 67ms/step - loss: 6.9601e-04 - mse: 6.9601e-04 - mae: 0.0194\n",
      "Epoch 19/50\n",
      "218/218 [==============================] - 15s 67ms/step - loss: 6.5911e-04 - mse: 6.5911e-04 - mae: 0.0185\n",
      "Epoch 20/50\n",
      "218/218 [==============================] - 15s 67ms/step - loss: 6.4283e-04 - mse: 6.4283e-04 - mae: 0.0183\n",
      "Epoch 21/50\n",
      "218/218 [==============================] - 15s 67ms/step - loss: 5.9999e-04 - mse: 5.9999e-04 - mae: 0.0178\n",
      "Epoch 22/50\n",
      "218/218 [==============================] - 15s 67ms/step - loss: 5.5895e-04 - mse: 5.5895e-04 - mae: 0.0171\n",
      "Epoch 23/50\n",
      "218/218 [==============================] - 15s 68ms/step - loss: 5.9551e-04 - mse: 5.9551e-04 - mae: 0.0178\n",
      "Epoch 24/50\n",
      "218/218 [==============================] - 19s 88ms/step - loss: 5.4953e-04 - mse: 5.4953e-04 - mae: 0.0171\n",
      "Epoch 25/50\n",
      "218/218 [==============================] - 16s 74ms/step - loss: 5.9410e-04 - mse: 5.9410e-04 - mae: 0.0179\n",
      "Epoch 26/50\n",
      "218/218 [==============================] - 16s 75ms/step - loss: 5.0432e-04 - mse: 5.0432e-04 - mae: 0.0161\n",
      "Epoch 27/50\n",
      "218/218 [==============================] - 15s 68ms/step - loss: 5.0995e-04 - mse: 5.0995e-04 - mae: 0.0162\n",
      "Epoch 28/50\n",
      "218/218 [==============================] - 15s 68ms/step - loss: 5.2967e-04 - mse: 5.2967e-04 - mae: 0.0166\n",
      "Epoch 29/50\n",
      "218/218 [==============================] - 15s 67ms/step - loss: 4.8764e-04 - mse: 4.8764e-04 - mae: 0.0159\n",
      "Epoch 30/50\n",
      "218/218 [==============================] - 16s 74ms/step - loss: 4.7024e-04 - mse: 4.7024e-04 - mae: 0.0156\n",
      "Epoch 31/50\n",
      "218/218 [==============================] - 15s 71ms/step - loss: 4.9302e-04 - mse: 4.9302e-04 - mae: 0.0161\n",
      "Epoch 32/50\n",
      "218/218 [==============================] - 15s 68ms/step - loss: 4.8672e-04 - mse: 4.8672e-04 - mae: 0.0158\n",
      "Epoch 33/50\n",
      "218/218 [==============================] - 15s 68ms/step - loss: 4.7236e-04 - mse: 4.7236e-04 - mae: 0.0159\n",
      "Epoch 34/50\n",
      "218/218 [==============================] - 15s 68ms/step - loss: 4.6149e-04 - mse: 4.6149e-04 - mae: 0.0154\n",
      "Epoch 35/50\n",
      "218/218 [==============================] - 15s 67ms/step - loss: 4.4280e-04 - mse: 4.4280e-04 - mae: 0.0150\n",
      "Epoch 36/50\n",
      "218/218 [==============================] - 14s 62ms/step - loss: 4.5556e-04 - mse: 4.5556e-04 - mae: 0.0153\n",
      "Epoch 37/50\n",
      "218/218 [==============================] - 13s 62ms/step - loss: 4.4905e-04 - mse: 4.4905e-04 - mae: 0.0153\n",
      "Epoch 38/50\n",
      "218/218 [==============================] - 14s 63ms/step - loss: 4.3394e-04 - mse: 4.3394e-04 - mae: 0.0150\n",
      "Epoch 39/50\n",
      "218/218 [==============================] - 16s 75ms/step - loss: 4.4490e-04 - mse: 4.4490e-04 - mae: 0.0152\n",
      "Epoch 40/50\n",
      "218/218 [==============================] - 15s 67ms/step - loss: 4.1779e-04 - mse: 4.1779e-04 - mae: 0.0146\n",
      "Epoch 41/50\n",
      "218/218 [==============================] - 14s 65ms/step - loss: 4.5262e-04 - mse: 4.5262e-04 - mae: 0.0153\n",
      "Epoch 42/50\n",
      "218/218 [==============================] - 14s 64ms/step - loss: 4.5314e-04 - mse: 4.5314e-04 - mae: 0.0152\n",
      "Epoch 43/50\n",
      "218/218 [==============================] - 14s 64ms/step - loss: 4.2783e-04 - mse: 4.2783e-04 - mae: 0.0149\n",
      "Epoch 44/50\n",
      "218/218 [==============================] - 14s 65ms/step - loss: 4.4961e-04 - mse: 4.4961e-04 - mae: 0.0150\n",
      "Epoch 45/50\n",
      "218/218 [==============================] - 14s 65ms/step - loss: 4.4338e-04 - mse: 4.4338e-04 - mae: 0.0151\n",
      "Epoch 46/50\n",
      "218/218 [==============================] - 14s 65ms/step - loss: 4.2169e-04 - mse: 4.2169e-04 - mae: 0.0147\n",
      "Epoch 47/50\n",
      "218/218 [==============================] - 14s 65ms/step - loss: 4.3869e-04 - mse: 4.3869e-04 - mae: 0.0149\n",
      "Epoch 48/50\n",
      "218/218 [==============================] - 14s 65ms/step - loss: 4.0780e-04 - mse: 4.0780e-04 - mae: 0.0143\n",
      "Epoch 49/50\n",
      "218/218 [==============================] - 14s 65ms/step - loss: 4.0435e-04 - mse: 4.0435e-04 - mae: 0.0145\n",
      "Epoch 50/50\n",
      "218/218 [==============================] - 14s 64ms/step - loss: 3.8664e-04 - mse: 3.8664e-04 - mae: 0.0141\n"
     ]
    },
    {
     "data": {
      "text/plain": [
       "<keras.callbacks.History at 0x1441b6b50>"
      ]
     },
     "execution_count": 20,
     "metadata": {},
     "output_type": "execute_result"
    }
   ],
   "source": [
    "#Fitting the RNN to the Training set and training the RNN\n",
    "regressor.fit(X_train, y_train, epochs = 50, batch_size = 50)"
   ]
  },
  {
   "cell_type": "code",
   "execution_count": 21,
   "metadata": {},
   "outputs": [
    {
     "data": {
      "text/html": [
       "<div>\n",
       "<style scoped>\n",
       "    .dataframe tbody tr th:only-of-type {\n",
       "        vertical-align: middle;\n",
       "    }\n",
       "\n",
       "    .dataframe tbody tr th {\n",
       "        vertical-align: top;\n",
       "    }\n",
       "\n",
       "    .dataframe thead th {\n",
       "        text-align: right;\n",
       "    }\n",
       "</style>\n",
       "<table border=\"1\" class=\"dataframe\">\n",
       "  <thead>\n",
       "    <tr style=\"text-align: right;\">\n",
       "      <th></th>\n",
       "      <th>timestamp</th>\n",
       "      <th>low</th>\n",
       "      <th>high</th>\n",
       "      <th>open</th>\n",
       "      <th>close</th>\n",
       "      <th>volume</th>\n",
       "      <th>threshold</th>\n",
       "      <th>label</th>\n",
       "    </tr>\n",
       "  </thead>\n",
       "  <tbody>\n",
       "    <tr>\n",
       "      <th>0</th>\n",
       "      <td>2021-02-02 06:00:00+00:00</td>\n",
       "      <td>33961.99</td>\n",
       "      <td>34350.00</td>\n",
       "      <td>34026.99</td>\n",
       "      <td>34306.72</td>\n",
       "      <td>774.068600</td>\n",
       "      <td>0.008630</td>\n",
       "      <td>1.0</td>\n",
       "    </tr>\n",
       "    <tr>\n",
       "      <th>1</th>\n",
       "      <td>2021-02-02 07:00:00+00:00</td>\n",
       "      <td>34161.18</td>\n",
       "      <td>34404.86</td>\n",
       "      <td>34318.27</td>\n",
       "      <td>34260.00</td>\n",
       "      <td>587.215907</td>\n",
       "      <td>0.008559</td>\n",
       "      <td>1.0</td>\n",
       "    </tr>\n",
       "    <tr>\n",
       "      <th>2</th>\n",
       "      <td>2021-02-02 08:00:00+00:00</td>\n",
       "      <td>34122.38</td>\n",
       "      <td>34691.25</td>\n",
       "      <td>34254.53</td>\n",
       "      <td>34687.91</td>\n",
       "      <td>623.271300</td>\n",
       "      <td>0.008595</td>\n",
       "      <td>1.0</td>\n",
       "    </tr>\n",
       "    <tr>\n",
       "      <th>3</th>\n",
       "      <td>2021-02-02 09:00:00+00:00</td>\n",
       "      <td>34689.63</td>\n",
       "      <td>35649.22</td>\n",
       "      <td>34689.63</td>\n",
       "      <td>35338.33</td>\n",
       "      <td>1670.998639</td>\n",
       "      <td>0.008692</td>\n",
       "      <td>0.0</td>\n",
       "    </tr>\n",
       "    <tr>\n",
       "      <th>4</th>\n",
       "      <td>2021-02-02 10:00:00+00:00</td>\n",
       "      <td>34881.62</td>\n",
       "      <td>35432.33</td>\n",
       "      <td>35346.09</td>\n",
       "      <td>35157.55</td>\n",
       "      <td>836.005195</td>\n",
       "      <td>0.008662</td>\n",
       "      <td>0.0</td>\n",
       "    </tr>\n",
       "  </tbody>\n",
       "</table>\n",
       "</div>"
      ],
      "text/plain": [
       "                   timestamp       low      high      open     close  \\\n",
       "0  2021-02-02 06:00:00+00:00  33961.99  34350.00  34026.99  34306.72   \n",
       "1  2021-02-02 07:00:00+00:00  34161.18  34404.86  34318.27  34260.00   \n",
       "2  2021-02-02 08:00:00+00:00  34122.38  34691.25  34254.53  34687.91   \n",
       "3  2021-02-02 09:00:00+00:00  34689.63  35649.22  34689.63  35338.33   \n",
       "4  2021-02-02 10:00:00+00:00  34881.62  35432.33  35346.09  35157.55   \n",
       "\n",
       "        volume  threshold  label  \n",
       "0   774.068600   0.008630    1.0  \n",
       "1   587.215907   0.008559    1.0  \n",
       "2   623.271300   0.008595    1.0  \n",
       "3  1670.998639   0.008692    0.0  \n",
       "4   836.005195   0.008662    0.0  "
      ]
     },
     "execution_count": 21,
     "metadata": {},
     "output_type": "execute_result"
    }
   ],
   "source": [
    "dataset_test.head()"
   ]
  },
  {
   "cell_type": "code",
   "execution_count": 23,
   "metadata": {},
   "outputs": [
    {
     "name": "stderr",
     "output_type": "stream",
     "text": [
      "/var/folders/r5/71898yc903z3qygv10q2_lc80000gn/T/ipykernel_46127/2953516942.py:2: SettingWithCopyWarning: \n",
      "A value is trying to be set on a copy of a slice from a DataFrame.\n",
      "Try using .loc[row_indexer,col_indexer] = value instead\n",
      "\n",
      "See the caveats in the documentation: https://pandas.pydata.org/pandas-docs/stable/user_guide/indexing.html#returning-a-view-versus-a-copy\n",
      "  dataset_test['Date'] = pd.to_datetime(dataset_test['timestamp'])\n"
     ]
    }
   ],
   "source": [
    "#Converting the Date colum values from object to datetime format\n",
    "dataset_test['Date'] = pd.to_datetime(dataset_test['timestamp'])"
   ]
  },
  {
   "cell_type": "code",
   "execution_count": 24,
   "metadata": {},
   "outputs": [],
   "source": [
    "\n",
    "#Setting the Date column as Index to the dataset\n",
    "dataset_test.set_index('Date', inplace = True)"
   ]
  },
  {
   "cell_type": "code",
   "execution_count": 25,
   "metadata": {},
   "outputs": [
    {
     "name": "stderr",
     "output_type": "stream",
     "text": [
      "/usr/local/lib/python3.9/site-packages/pandas/util/_decorators.py:311: SettingWithCopyWarning: \n",
      "A value is trying to be set on a copy of a slice from a DataFrame\n",
      "\n",
      "See the caveats in the documentation: https://pandas.pydata.org/pandas-docs/stable/user_guide/indexing.html#returning-a-view-versus-a-copy\n",
      "  return func(*args, **kwargs)\n"
     ]
    }
   ],
   "source": [
    "#Sorting the data based on Increasing value of date\n",
    "dataset_test.sort_values(by='Date',ascending=True, inplace = True)"
   ]
  },
  {
   "cell_type": "code",
   "execution_count": 26,
   "metadata": {},
   "outputs": [
    {
     "data": {
      "text/html": [
       "<div>\n",
       "<style scoped>\n",
       "    .dataframe tbody tr th:only-of-type {\n",
       "        vertical-align: middle;\n",
       "    }\n",
       "\n",
       "    .dataframe tbody tr th {\n",
       "        vertical-align: top;\n",
       "    }\n",
       "\n",
       "    .dataframe thead th {\n",
       "        text-align: right;\n",
       "    }\n",
       "</style>\n",
       "<table border=\"1\" class=\"dataframe\">\n",
       "  <thead>\n",
       "    <tr style=\"text-align: right;\">\n",
       "      <th></th>\n",
       "      <th>timestamp</th>\n",
       "      <th>low</th>\n",
       "      <th>high</th>\n",
       "      <th>open</th>\n",
       "      <th>close</th>\n",
       "      <th>volume</th>\n",
       "      <th>threshold</th>\n",
       "      <th>label</th>\n",
       "    </tr>\n",
       "    <tr>\n",
       "      <th>Date</th>\n",
       "      <th></th>\n",
       "      <th></th>\n",
       "      <th></th>\n",
       "      <th></th>\n",
       "      <th></th>\n",
       "      <th></th>\n",
       "      <th></th>\n",
       "      <th></th>\n",
       "    </tr>\n",
       "  </thead>\n",
       "  <tbody>\n",
       "    <tr>\n",
       "      <th>2021-02-02 06:00:00+00:00</th>\n",
       "      <td>2021-02-02 06:00:00+00:00</td>\n",
       "      <td>33961.99</td>\n",
       "      <td>34350.00</td>\n",
       "      <td>34026.99</td>\n",
       "      <td>34306.72</td>\n",
       "      <td>774.068600</td>\n",
       "      <td>0.008630</td>\n",
       "      <td>1.0</td>\n",
       "    </tr>\n",
       "    <tr>\n",
       "      <th>2021-02-02 07:00:00+00:00</th>\n",
       "      <td>2021-02-02 07:00:00+00:00</td>\n",
       "      <td>34161.18</td>\n",
       "      <td>34404.86</td>\n",
       "      <td>34318.27</td>\n",
       "      <td>34260.00</td>\n",
       "      <td>587.215907</td>\n",
       "      <td>0.008559</td>\n",
       "      <td>1.0</td>\n",
       "    </tr>\n",
       "    <tr>\n",
       "      <th>2021-02-02 08:00:00+00:00</th>\n",
       "      <td>2021-02-02 08:00:00+00:00</td>\n",
       "      <td>34122.38</td>\n",
       "      <td>34691.25</td>\n",
       "      <td>34254.53</td>\n",
       "      <td>34687.91</td>\n",
       "      <td>623.271300</td>\n",
       "      <td>0.008595</td>\n",
       "      <td>1.0</td>\n",
       "    </tr>\n",
       "    <tr>\n",
       "      <th>2021-02-02 09:00:00+00:00</th>\n",
       "      <td>2021-02-02 09:00:00+00:00</td>\n",
       "      <td>34689.63</td>\n",
       "      <td>35649.22</td>\n",
       "      <td>34689.63</td>\n",
       "      <td>35338.33</td>\n",
       "      <td>1670.998639</td>\n",
       "      <td>0.008692</td>\n",
       "      <td>0.0</td>\n",
       "    </tr>\n",
       "    <tr>\n",
       "      <th>2021-02-02 10:00:00+00:00</th>\n",
       "      <td>2021-02-02 10:00:00+00:00</td>\n",
       "      <td>34881.62</td>\n",
       "      <td>35432.33</td>\n",
       "      <td>35346.09</td>\n",
       "      <td>35157.55</td>\n",
       "      <td>836.005195</td>\n",
       "      <td>0.008662</td>\n",
       "      <td>0.0</td>\n",
       "    </tr>\n",
       "  </tbody>\n",
       "</table>\n",
       "</div>"
      ],
      "text/plain": [
       "                                           timestamp       low      high  \\\n",
       "Date                                                                       \n",
       "2021-02-02 06:00:00+00:00  2021-02-02 06:00:00+00:00  33961.99  34350.00   \n",
       "2021-02-02 07:00:00+00:00  2021-02-02 07:00:00+00:00  34161.18  34404.86   \n",
       "2021-02-02 08:00:00+00:00  2021-02-02 08:00:00+00:00  34122.38  34691.25   \n",
       "2021-02-02 09:00:00+00:00  2021-02-02 09:00:00+00:00  34689.63  35649.22   \n",
       "2021-02-02 10:00:00+00:00  2021-02-02 10:00:00+00:00  34881.62  35432.33   \n",
       "\n",
       "                               open     close       volume  threshold  label  \n",
       "Date                                                                          \n",
       "2021-02-02 06:00:00+00:00  34026.99  34306.72   774.068600   0.008630    1.0  \n",
       "2021-02-02 07:00:00+00:00  34318.27  34260.00   587.215907   0.008559    1.0  \n",
       "2021-02-02 08:00:00+00:00  34254.53  34687.91   623.271300   0.008595    1.0  \n",
       "2021-02-02 09:00:00+00:00  34689.63  35338.33  1670.998639   0.008692    0.0  \n",
       "2021-02-02 10:00:00+00:00  35346.09  35157.55   836.005195   0.008662    0.0  "
      ]
     },
     "execution_count": 26,
     "metadata": {},
     "output_type": "execute_result"
    }
   ],
   "source": [
    "#Displaying the prepared dataset\n",
    "dataset_test.head()"
   ]
  },
  {
   "cell_type": "code",
   "execution_count": 27,
   "metadata": {},
   "outputs": [
    {
     "data": {
      "text/plain": [
       "(1213, 8)"
      ]
     },
     "execution_count": 27,
     "metadata": {},
     "output_type": "execute_result"
    }
   ],
   "source": [
    "\n",
    "dataset_test.shape"
   ]
  },
  {
   "cell_type": "code",
   "execution_count": 28,
   "metadata": {},
   "outputs": [],
   "source": [
    "#Adding the previous 60 days cosing price to the test data\n",
    "test_set = pd.concat((dataset_train.tail(sequence_length), dataset_test), axis = 0)"
   ]
  },
  {
   "cell_type": "code",
   "execution_count": 29,
   "metadata": {},
   "outputs": [
    {
     "data": {
      "text/html": [
       "<div>\n",
       "<style scoped>\n",
       "    .dataframe tbody tr th:only-of-type {\n",
       "        vertical-align: middle;\n",
       "    }\n",
       "\n",
       "    .dataframe tbody tr th {\n",
       "        vertical-align: top;\n",
       "    }\n",
       "\n",
       "    .dataframe thead th {\n",
       "        text-align: right;\n",
       "    }\n",
       "</style>\n",
       "<table border=\"1\" class=\"dataframe\">\n",
       "  <thead>\n",
       "    <tr style=\"text-align: right;\">\n",
       "      <th></th>\n",
       "      <th>timestamp</th>\n",
       "      <th>low</th>\n",
       "      <th>high</th>\n",
       "      <th>open</th>\n",
       "      <th>close</th>\n",
       "      <th>volume</th>\n",
       "      <th>threshold</th>\n",
       "      <th>label</th>\n",
       "    </tr>\n",
       "    <tr>\n",
       "      <th>Date</th>\n",
       "      <th></th>\n",
       "      <th></th>\n",
       "      <th></th>\n",
       "      <th></th>\n",
       "      <th></th>\n",
       "      <th></th>\n",
       "      <th></th>\n",
       "      <th></th>\n",
       "    </tr>\n",
       "  </thead>\n",
       "  <tbody>\n",
       "    <tr>\n",
       "      <th>2022-06-20 04:00:00+00:00</th>\n",
       "      <td>2022-06-20 04:00:00+00:00</td>\n",
       "      <td>19781.20</td>\n",
       "      <td>20146.93</td>\n",
       "      <td>19953.89</td>\n",
       "      <td>19831.12</td>\n",
       "      <td>698.349136</td>\n",
       "      <td>0.010227</td>\n",
       "      <td>1.0</td>\n",
       "    </tr>\n",
       "    <tr>\n",
       "      <th>2022-06-20 05:00:00+00:00</th>\n",
       "      <td>2022-06-20 05:00:00+00:00</td>\n",
       "      <td>19749.09</td>\n",
       "      <td>20095.48</td>\n",
       "      <td>19831.48</td>\n",
       "      <td>20084.50</td>\n",
       "      <td>640.449611</td>\n",
       "      <td>0.010260</td>\n",
       "      <td>1.0</td>\n",
       "    </tr>\n",
       "    <tr>\n",
       "      <th>2022-06-20 06:00:00+00:00</th>\n",
       "      <td>2022-06-20 06:00:00+00:00</td>\n",
       "      <td>19895.62</td>\n",
       "      <td>20237.89</td>\n",
       "      <td>20081.56</td>\n",
       "      <td>20114.50</td>\n",
       "      <td>483.946537</td>\n",
       "      <td>0.010179</td>\n",
       "      <td>1.0</td>\n",
       "    </tr>\n",
       "    <tr>\n",
       "      <th>2022-06-20 07:00:00+00:00</th>\n",
       "      <td>2022-06-20 07:00:00+00:00</td>\n",
       "      <td>19856.13</td>\n",
       "      <td>20135.42</td>\n",
       "      <td>20114.15</td>\n",
       "      <td>20057.89</td>\n",
       "      <td>423.812655</td>\n",
       "      <td>0.010099</td>\n",
       "      <td>1.0</td>\n",
       "    </tr>\n",
       "    <tr>\n",
       "      <th>2022-06-20 08:00:00+00:00</th>\n",
       "      <td>2022-06-20 08:00:00+00:00</td>\n",
       "      <td>20000.00</td>\n",
       "      <td>20621.62</td>\n",
       "      <td>20062.56</td>\n",
       "      <td>20546.65</td>\n",
       "      <td>1095.405072</td>\n",
       "      <td>0.010245</td>\n",
       "      <td>0.0</td>\n",
       "    </tr>\n",
       "    <tr>\n",
       "      <th>2022-06-20 09:00:00+00:00</th>\n",
       "      <td>2022-06-20 09:00:00+00:00</td>\n",
       "      <td>20455.99</td>\n",
       "      <td>20989.50</td>\n",
       "      <td>20546.70</td>\n",
       "      <td>20625.45</td>\n",
       "      <td>1143.380082</td>\n",
       "      <td>0.010186</td>\n",
       "      <td>1.0</td>\n",
       "    </tr>\n",
       "    <tr>\n",
       "      <th>2022-06-20 10:00:00+00:00</th>\n",
       "      <td>2022-06-20 10:00:00+00:00</td>\n",
       "      <td>20444.65</td>\n",
       "      <td>20970.96</td>\n",
       "      <td>20623.76</td>\n",
       "      <td>20862.50</td>\n",
       "      <td>1035.136338</td>\n",
       "      <td>0.010201</td>\n",
       "      <td>0.0</td>\n",
       "    </tr>\n",
       "    <tr>\n",
       "      <th>2022-06-20 11:00:00+00:00</th>\n",
       "      <td>2022-06-20 11:00:00+00:00</td>\n",
       "      <td>20661.11</td>\n",
       "      <td>20939.84</td>\n",
       "      <td>20866.33</td>\n",
       "      <td>20780.11</td>\n",
       "      <td>798.164567</td>\n",
       "      <td>0.010136</td>\n",
       "      <td>0.0</td>\n",
       "    </tr>\n",
       "    <tr>\n",
       "      <th>2022-06-20 12:00:00+00:00</th>\n",
       "      <td>2022-06-20 12:00:00+00:00</td>\n",
       "      <td>20340.00</td>\n",
       "      <td>20799.21</td>\n",
       "      <td>20781.08</td>\n",
       "      <td>20533.96</td>\n",
       "      <td>1154.020810</td>\n",
       "      <td>0.010149</td>\n",
       "      <td>0.0</td>\n",
       "    </tr>\n",
       "    <tr>\n",
       "      <th>2022-06-20 13:00:00+00:00</th>\n",
       "      <td>2022-06-20 13:00:00+00:00</td>\n",
       "      <td>20360.00</td>\n",
       "      <td>20668.99</td>\n",
       "      <td>20534.87</td>\n",
       "      <td>20504.44</td>\n",
       "      <td>849.865247</td>\n",
       "      <td>0.010058</td>\n",
       "      <td>0.0</td>\n",
       "    </tr>\n",
       "  </tbody>\n",
       "</table>\n",
       "</div>"
      ],
      "text/plain": [
       "                                           timestamp       low      high  \\\n",
       "Date                                                                       \n",
       "2022-06-20 04:00:00+00:00  2022-06-20 04:00:00+00:00  19781.20  20146.93   \n",
       "2022-06-20 05:00:00+00:00  2022-06-20 05:00:00+00:00  19749.09  20095.48   \n",
       "2022-06-20 06:00:00+00:00  2022-06-20 06:00:00+00:00  19895.62  20237.89   \n",
       "2022-06-20 07:00:00+00:00  2022-06-20 07:00:00+00:00  19856.13  20135.42   \n",
       "2022-06-20 08:00:00+00:00  2022-06-20 08:00:00+00:00  20000.00  20621.62   \n",
       "2022-06-20 09:00:00+00:00  2022-06-20 09:00:00+00:00  20455.99  20989.50   \n",
       "2022-06-20 10:00:00+00:00  2022-06-20 10:00:00+00:00  20444.65  20970.96   \n",
       "2022-06-20 11:00:00+00:00  2022-06-20 11:00:00+00:00  20661.11  20939.84   \n",
       "2022-06-20 12:00:00+00:00  2022-06-20 12:00:00+00:00  20340.00  20799.21   \n",
       "2022-06-20 13:00:00+00:00  2022-06-20 13:00:00+00:00  20360.00  20668.99   \n",
       "\n",
       "                               open     close       volume  threshold  label  \n",
       "Date                                                                          \n",
       "2022-06-20 04:00:00+00:00  19953.89  19831.12   698.349136   0.010227    1.0  \n",
       "2022-06-20 05:00:00+00:00  19831.48  20084.50   640.449611   0.010260    1.0  \n",
       "2022-06-20 06:00:00+00:00  20081.56  20114.50   483.946537   0.010179    1.0  \n",
       "2022-06-20 07:00:00+00:00  20114.15  20057.89   423.812655   0.010099    1.0  \n",
       "2022-06-20 08:00:00+00:00  20062.56  20546.65  1095.405072   0.010245    0.0  \n",
       "2022-06-20 09:00:00+00:00  20546.70  20625.45  1143.380082   0.010186    1.0  \n",
       "2022-06-20 10:00:00+00:00  20623.76  20862.50  1035.136338   0.010201    0.0  \n",
       "2022-06-20 11:00:00+00:00  20866.33  20780.11   798.164567   0.010136    0.0  \n",
       "2022-06-20 12:00:00+00:00  20781.08  20533.96  1154.020810   0.010149    0.0  \n",
       "2022-06-20 13:00:00+00:00  20534.87  20504.44   849.865247   0.010058    0.0  "
      ]
     },
     "execution_count": 29,
     "metadata": {},
     "output_type": "execute_result"
    }
   ],
   "source": [
    "test_set.head(10)"
   ]
  },
  {
   "cell_type": "code",
   "execution_count": 30,
   "metadata": {},
   "outputs": [
    {
     "data": {
      "text/plain": [
       "(1273, 8)"
      ]
     },
     "execution_count": 30,
     "metadata": {},
     "output_type": "execute_result"
    }
   ],
   "source": [
    "test_set.shape"
   ]
  },
  {
   "cell_type": "code",
   "execution_count": 32,
   "metadata": {},
   "outputs": [],
   "source": [
    "\n",
    "#Preprocessing the test data\n",
    "x_test, y_true = bit_pre_process(test_set , sequence_length, comumn_index)"
   ]
  },
  {
   "cell_type": "code",
   "execution_count": 33,
   "metadata": {},
   "outputs": [
    {
     "data": {
      "text/plain": [
       "(1213, 60, 1)"
      ]
     },
     "execution_count": 33,
     "metadata": {},
     "output_type": "execute_result"
    }
   ],
   "source": [
    "x_test.shape"
   ]
  },
  {
   "cell_type": "code",
   "execution_count": 34,
   "metadata": {},
   "outputs": [
    {
     "data": {
      "text/plain": [
       "(1213,)"
      ]
     },
     "execution_count": 34,
     "metadata": {},
     "output_type": "execute_result"
    }
   ],
   "source": [
    "y_true.shape"
   ]
  },
  {
   "cell_type": "code",
   "execution_count": 35,
   "metadata": {},
   "outputs": [
    {
     "name": "stdout",
     "output_type": "stream",
     "text": [
      "38/38 [==============================] - 2s 20ms/step\n"
     ]
    }
   ],
   "source": [
    "#Predicting the closing price of the test data\n",
    "predicted_stock_price = regressor.predict(x_test)"
   ]
  },
  {
   "cell_type": "code",
   "execution_count": 36,
   "metadata": {},
   "outputs": [],
   "source": [
    "#Inversing the scaled values \n",
    "predicted_stock_price = sc.inverse_transform(predicted_stock_price)"
   ]
  },
  {
   "cell_type": "code",
   "execution_count": 37,
   "metadata": {},
   "outputs": [],
   "source": [
    "#Inversing the scaled actual prices from test data\n",
    "real_stock_price = sc.inverse_transform(y_true.reshape(-1, 1))"
   ]
  },
  {
   "cell_type": "code",
   "execution_count": 45,
   "metadata": {},
   "outputs": [],
   "source": [
    "# A Method to plot predicted pirce vs Actual price\n",
    "def plot_predictions(real_price, predicted_price, title, x_label, y_label):\n",
    "  plt.plot(real_price, color = 'green', label = 'Real  Price')\n",
    "  plt.plot(predicted_price, color = 'red', label = 'Predicted  Price')\n",
    "  plt.title(title)\n",
    "  plt.xlabel('Time')\n",
    "  plt.ylabel('BTC  Price')\n",
    "  plt.legend()\n",
    "  plt.show()"
   ]
  },
  {
   "cell_type": "code",
   "execution_count": 46,
   "metadata": {},
   "outputs": [
    {
     "data": {
      "image/png": "[encoded data removed]",
      "text/plain": [
       "<Figure size 640x480 with 1 Axes>"
      ]
     },
     "metadata": {},
     "output_type": "display_data"
    }
   ],
   "source": [
    "#Plotting real_stock_pric vs predicted_stock_price\n",
    "plot_predictions(real_stock_price, predicted_stock_price, \"Bitcoin Closing Price Prediction\", \"Time\", \"Closing Price\")"
   ]
  },
  {
   "cell_type": "code",
   "execution_count": 41,
   "metadata": {},
   "outputs": [
    {
     "name": "stderr",
     "output_type": "stream",
     "text": [
      "/var/folders/r5/71898yc903z3qygv10q2_lc80000gn/T/ipykernel_46127/1340485497.py:1: SettingWithCopyWarning: \n",
      "A value is trying to be set on a copy of a slice from a DataFrame.\n",
      "Try using .loc[row_indexer,col_indexer] = value instead\n",
      "\n",
      "See the caveats in the documentation: https://pandas.pydata.org/pandas-docs/stable/user_guide/indexing.html#returning-a-view-versus-a-copy\n",
      "  dataset_test['Predicted_Close'] = predicted_stock_price\n"
     ]
    }
   ],
   "source": [
    "dataset_test['Predicted_Close'] = predicted_stock_price"
   ]
  },
  {
   "cell_type": "code",
   "execution_count": 43,
   "metadata": {},
   "outputs": [],
   "source": [
    "compare = dataset_test[['open','close','Predicted_Close' ]]"
   ]
  },
  {
   "cell_type": "code",
   "execution_count": 44,
   "metadata": {},
   "outputs": [
    {
     "data": {
      "text/html": [
       "<div>\n",
       "<style scoped>\n",
       "    .dataframe tbody tr th:only-of-type {\n",
       "        vertical-align: middle;\n",
       "    }\n",
       "\n",
       "    .dataframe tbody tr th {\n",
       "        vertical-align: top;\n",
       "    }\n",
       "\n",
       "    .dataframe thead th {\n",
       "        text-align: right;\n",
       "    }\n",
       "</style>\n",
       "<table border=\"1\" class=\"dataframe\">\n",
       "  <thead>\n",
       "    <tr style=\"text-align: right;\">\n",
       "      <th></th>\n",
       "      <th>open</th>\n",
       "      <th>close</th>\n",
       "      <th>Predicted_Close</th>\n",
       "    </tr>\n",
       "    <tr>\n",
       "      <th>Date</th>\n",
       "      <th></th>\n",
       "      <th></th>\n",
       "      <th></th>\n",
       "    </tr>\n",
       "  </thead>\n",
       "  <tbody>\n",
       "    <tr>\n",
       "      <th>2021-02-02 06:00:00+00:00</th>\n",
       "      <td>34026.99</td>\n",
       "      <td>34306.72</td>\n",
       "      <td>20028.531250</td>\n",
       "    </tr>\n",
       "    <tr>\n",
       "      <th>2021-02-02 07:00:00+00:00</th>\n",
       "      <td>34318.27</td>\n",
       "      <td>34260.00</td>\n",
       "      <td>25115.949219</td>\n",
       "    </tr>\n",
       "    <tr>\n",
       "      <th>2021-02-02 08:00:00+00:00</th>\n",
       "      <td>34254.53</td>\n",
       "      <td>34687.91</td>\n",
       "      <td>29840.738281</td>\n",
       "    </tr>\n",
       "    <tr>\n",
       "      <th>2021-02-02 09:00:00+00:00</th>\n",
       "      <td>34689.63</td>\n",
       "      <td>35338.33</td>\n",
       "      <td>32619.220703</td>\n",
       "    </tr>\n",
       "    <tr>\n",
       "      <th>2021-02-02 10:00:00+00:00</th>\n",
       "      <td>35346.09</td>\n",
       "      <td>35157.55</td>\n",
       "      <td>33826.132812</td>\n",
       "    </tr>\n",
       "    <tr>\n",
       "      <th>2021-02-02 11:00:00+00:00</th>\n",
       "      <td>35160.97</td>\n",
       "      <td>34710.00</td>\n",
       "      <td>34360.558594</td>\n",
       "    </tr>\n",
       "    <tr>\n",
       "      <th>2021-02-02 12:00:00+00:00</th>\n",
       "      <td>34710.00</td>\n",
       "      <td>34810.59</td>\n",
       "      <td>34506.511719</td>\n",
       "    </tr>\n",
       "    <tr>\n",
       "      <th>2021-02-02 13:00:00+00:00</th>\n",
       "      <td>34810.59</td>\n",
       "      <td>34865.93</td>\n",
       "      <td>34356.496094</td>\n",
       "    </tr>\n",
       "    <tr>\n",
       "      <th>2021-02-02 14:00:00+00:00</th>\n",
       "      <td>34871.22</td>\n",
       "      <td>34817.00</td>\n",
       "      <td>34269.605469</td>\n",
       "    </tr>\n",
       "    <tr>\n",
       "      <th>2021-02-02 15:00:00+00:00</th>\n",
       "      <td>34818.65</td>\n",
       "      <td>34750.02</td>\n",
       "      <td>34327.832031</td>\n",
       "    </tr>\n",
       "    <tr>\n",
       "      <th>2021-02-02 16:00:00+00:00</th>\n",
       "      <td>34751.15</td>\n",
       "      <td>34995.78</td>\n",
       "      <td>34404.875000</td>\n",
       "    </tr>\n",
       "    <tr>\n",
       "      <th>2021-02-02 17:00:00+00:00</th>\n",
       "      <td>34996.81</td>\n",
       "      <td>34874.62</td>\n",
       "      <td>34420.214844</td>\n",
       "    </tr>\n",
       "    <tr>\n",
       "      <th>2021-02-02 18:00:00+00:00</th>\n",
       "      <td>34876.88</td>\n",
       "      <td>35304.19</td>\n",
       "      <td>34489.996094</td>\n",
       "    </tr>\n",
       "    <tr>\n",
       "      <th>2021-02-02 19:00:00+00:00</th>\n",
       "      <td>35309.92</td>\n",
       "      <td>35786.97</td>\n",
       "      <td>34485.609375</td>\n",
       "    </tr>\n",
       "    <tr>\n",
       "      <th>2021-02-02 20:00:00+00:00</th>\n",
       "      <td>35790.49</td>\n",
       "      <td>35838.12</td>\n",
       "      <td>34597.902344</td>\n",
       "    </tr>\n",
       "    <tr>\n",
       "      <th>2021-02-02 21:00:00+00:00</th>\n",
       "      <td>35838.12</td>\n",
       "      <td>35680.39</td>\n",
       "      <td>34876.300781</td>\n",
       "    </tr>\n",
       "    <tr>\n",
       "      <th>2021-02-02 22:00:00+00:00</th>\n",
       "      <td>35684.97</td>\n",
       "      <td>35595.23</td>\n",
       "      <td>35092.332031</td>\n",
       "    </tr>\n",
       "    <tr>\n",
       "      <th>2021-02-02 23:00:00+00:00</th>\n",
       "      <td>35600.09</td>\n",
       "      <td>35512.67</td>\n",
       "      <td>35119.351562</td>\n",
       "    </tr>\n",
       "    <tr>\n",
       "      <th>2021-02-03 00:00:00+00:00</th>\n",
       "      <td>35513.00</td>\n",
       "      <td>36161.23</td>\n",
       "      <td>35039.312500</td>\n",
       "    </tr>\n",
       "    <tr>\n",
       "      <th>2021-02-03 01:00:00+00:00</th>\n",
       "      <td>36164.38</td>\n",
       "      <td>35890.22</td>\n",
       "      <td>34937.515625</td>\n",
       "    </tr>\n",
       "  </tbody>\n",
       "</table>\n",
       "</div>"
      ],
      "text/plain": [
       "                               open     close  Predicted_Close\n",
       "Date                                                          \n",
       "2021-02-02 06:00:00+00:00  34026.99  34306.72     20028.531250\n",
       "2021-02-02 07:00:00+00:00  34318.27  34260.00     25115.949219\n",
       "2021-02-02 08:00:00+00:00  34254.53  34687.91     29840.738281\n",
       "2021-02-02 09:00:00+00:00  34689.63  35338.33     32619.220703\n",
       "2021-02-02 10:00:00+00:00  35346.09  35157.55     33826.132812\n",
       "2021-02-02 11:00:00+00:00  35160.97  34710.00     34360.558594\n",
       "2021-02-02 12:00:00+00:00  34710.00  34810.59     34506.511719\n",
       "2021-02-02 13:00:00+00:00  34810.59  34865.93     34356.496094\n",
       "2021-02-02 14:00:00+00:00  34871.22  34817.00     34269.605469\n",
       "2021-02-02 15:00:00+00:00  34818.65  34750.02     34327.832031\n",
       "2021-02-02 16:00:00+00:00  34751.15  34995.78     34404.875000\n",
       "2021-02-02 17:00:00+00:00  34996.81  34874.62     34420.214844\n",
       "2021-02-02 18:00:00+00:00  34876.88  35304.19     34489.996094\n",
       "2021-02-02 19:00:00+00:00  35309.92  35786.97     34485.609375\n",
       "2021-02-02 20:00:00+00:00  35790.49  35838.12     34597.902344\n",
       "2021-02-02 21:00:00+00:00  35838.12  35680.39     34876.300781\n",
       "2021-02-02 22:00:00+00:00  35684.97  35595.23     35092.332031\n",
       "2021-02-02 23:00:00+00:00  35600.09  35512.67     35119.351562\n",
       "2021-02-03 00:00:00+00:00  35513.00  36161.23     35039.312500\n",
       "2021-02-03 01:00:00+00:00  36164.38  35890.22     34937.515625"
      ]
     },
     "execution_count": 44,
     "metadata": {},
     "output_type": "execute_result"
    }
   ],
   "source": [
    "compare.head(20)"
   ]
  },
  {
   "cell_type": "code",
   "execution_count": null,
   "metadata": {},
   "outputs": [],
   "source": []
  }
 ],
 "metadata": {
  "colab": {
   "authorship_tag": "ABX9TyNM2VNBi2bvSoffY5vGdtIk",
   "include_colab_link": true,
   "provenance": []
  },
  "kernelspec": {
   "display_name": "Python 3 (ipykernel)",
   "language": "python",
   "name": "python3"
  },
  "language_info": {
   "codemirror_mode": {
    "name": "ipython",
    "version": 3
   },
   "file_extension": ".py",
   "mimetype": "text/x-python",
   "name": "python",
   "nbconvert_exporter": "python",
   "pygments_lexer": "ipython3",
   "version": "3.9.15"
  }
 },
 "nbformat": 4,
 "nbformat_minor": 1
}
